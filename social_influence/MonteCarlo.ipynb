{
  "nbformat": 4,
  "nbformat_minor": 0,
  "metadata": {
    "colab": {
      "name": "MonteCarlo.ipynb",
      "provenance": [],
      "collapsed_sections": []
    },
    "kernelspec": {
      "name": "python3",
      "display_name": "Python 3"
    },
    "language_info": {
      "name": "python"
    }
  },
  "cells": [
    {
      "cell_type": "code",
      "metadata": {
        "id": "nWU63pEZdRZl"
      },
      "source": [
        "import numpy as np\n",
        "import math"
      ],
      "execution_count": 35,
      "outputs": []
    },
    {
      "cell_type": "code",
      "metadata": {
        "id": "b8YLzsGddVEo"
      },
      "source": [
        "# see first video of exercice of social influence topic\n",
        "def simulate_episode(init_prob_matrix, initial_active_nodes, n_steps_max):\n",
        "  prob_matrix = init_prob_matrix.copy()\n",
        "  n_nodes = prob_matrix.shape[0]\n",
        "  history = np.array([initial_active_nodes])\n",
        "  active_nodes = initial_active_nodes\n",
        "  newly_active_nodes = active_nodes\n",
        "\n",
        "  t=0\n",
        "  while t<n_steps_max and np.sum(newly_active_nodes)>0:\n",
        "    p = (prob_matrix.T * active_nodes).T\n",
        "    activated_edges = p>np.random.rand(p.shape[0], p.shape[1])\n",
        "    prob_matrix = prob_matrix * ((p!=0)==activated_edges)\n",
        "    newly_active_nodes = (np.sum(activated_edges,axis=0)>0) * (1 - active_nodes)\n",
        "    active_nodes = np.array(active_nodes + newly_active_nodes)\n",
        "    history = np.concatenate((history, [newly_active_nodes]),axis=0)\n",
        "    t+=1\n",
        "  return history"
      ],
      "execution_count": 18,
      "outputs": []
    },
    {
      "cell_type": "code",
      "metadata": {
        "colab": {
          "base_uri": "https://localhost:8080/"
        },
        "id": "EOpRGE0Jes0o",
        "outputId": "3e72134c-99b5-4e84-d489-b0c838136efa"
      },
      "source": [
        "# with that, every execution will lead to the same random generated values\n",
        "np.random.seed(0) \n",
        "\n",
        "n_nodes = 5\n",
        "n_episodes = 5000 # nb of Monte-Carlo runs\n",
        "prob_matrix = np.random.uniform(0.0,0.1,(n_nodes,n_nodes))\n",
        "dataset = [] # will contain histories of Monte-Carlo runs\n",
        "\n",
        "# seeds we're testing with Monte-Carlo\n",
        "seeds = np.random.binomial(1, 0.4, size=(n_nodes))\n",
        "\n",
        "print(\"probability matrix : \\n\",prob_matrix)\n",
        "print(\"\\nroots : \\n\",roots)\n",
        "\n",
        "# simulations\n",
        "for e in range(n_episodes):\n",
        "  dataset.append(simulate_episode(prob_matrix, seeds, n_steps_max=15))\n",
        "\n",
        "# let's count the activations of each node\n",
        "scores = np.zeros(n_nodes)\n",
        "for history in dataset:\n",
        "  unactivated_nodes = list(range(n_nodes))\n",
        "  for state in history:\n",
        "    for i in unactivated_nodes:\n",
        "      if state[i]==1:\n",
        "        scores[i]+=1\n",
        "        unactivated_nodes.remove(i)\n",
        "scores /= n_episodes\n",
        "print(\"\\nestimated probabilities of activation : \\n\",scores)\n",
        "\n",
        "# computation of estimation fiability\n",
        "precision_sigma = 0.05\n",
        "precision = n_nodes * math.sqrt(math.log(seeds.shape[0]) * math.log(1/precision_sigma) / n_episodes)\n",
        "print(\"\\nprecision with p >\",100*(1-precision_sigma),\"% : \",precision)"
      ],
      "execution_count": 43,
      "outputs": [
        {
          "output_type": "stream",
          "text": [
            "probability matrix : \n",
            " [[0.05488135 0.07151894 0.06027634 0.05448832 0.04236548]\n",
            " [0.06458941 0.04375872 0.0891773  0.09636628 0.03834415]\n",
            " [0.0791725  0.05288949 0.05680446 0.09255966 0.00710361]\n",
            " [0.00871293 0.00202184 0.08326198 0.07781568 0.08700121]\n",
            " [0.09786183 0.07991586 0.04614794 0.07805292 0.01182744]]\n",
            "\n",
            "roots : \n",
            " [1 0 1 0 0]\n",
            "\n",
            "estimated probabilities of activation : \n",
            " [1.     0.122  1.     0.1352 0.0636]\n",
            "\n",
            "precision with p > 95.0 % :  0.15526501693169967\n"
          ],
          "name": "stdout"
        }
      ]
    },
    {
      "cell_type": "code",
      "metadata": {
        "id": "Zq0cqhKQgcWl"
      },
      "source": [
        ""
      ],
      "execution_count": 27,
      "outputs": []
    }
  ]
}